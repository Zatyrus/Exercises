{
 "cells": [
  {
   "cell_type": "code",
   "execution_count": null,
   "metadata": {},
   "outputs": [],
   "source": [
    "import numpy as np\n",
    "from typing import List, Tuple, Dict, Any, NoReturn\n",
    "from tqdm.notebook import tqdm, tnrange"
   ]
  },
  {
   "cell_type": "code",
   "execution_count": null,
   "metadata": {},
   "outputs": [],
   "source": [
    "A:np.ndarray = np.array(([0.5, 0.5], [-0.5, 0.5]))\n",
    "B:np.ndarray = np.array(([0.5, -0.5], [0.5, 0.5]))"
   ]
  },
  {
   "cell_type": "code",
   "execution_count": null,
   "metadata": {},
   "outputs": [],
   "source": [
    "A:np.ndarray = np.array(([0.5, 0.5], [-0.5, 0.5]))\n",
    "B:np.ndarray = np.array(([0.5, -0.5], [0.5, 0.5]))\n",
    "offset:np.ndarray = np.array([0.5, 0.5])\n",
    "\n",
    "## util\n",
    "def seed_random(seed:int)->NoReturn:\n",
    "    np.random.seed(seed)\n",
    "\n",
    "def transformation_step(x:np.ndarray, A:np.ndarray, B:np.ndarray, offset:np.ndarray)->tuple[np.ndarray, np.ndarray]:\n",
    "    x1 = np.dot(A, x)\n",
    "    x2 = np.dot(B, x) - offset\n",
    "    return x1, x2"
   ]
  },
  {
   "cell_type": "code",
   "execution_count": null,
   "metadata": {},
   "outputs": [],
   "source": [
    "n:int = 10\n",
    "odds:float = 0.5\n",
    "seed:int = 1\n",
    "interactive:bool = False\n",
    "\n",
    "## transformation matrices\n",
    "\n",
    "A:np.ndarray = np.array(([0.5, 0.5], [-0.5, 0.5]))\n",
    "B:np.ndarray = np.array(([0.5, -0.5], [0.5, 0.5]))\n",
    "offset:np.ndarray = np.array([0.5, 0.5])\n",
    "\n",
    "## util\n",
    "def seed_random(seed:int)->NoReturn:\n",
    "    np.random.seed(seed)\n",
    "\n",
    "def transformation_step(x:np.ndarray, A:np.ndarray, B:np.ndarray, offset:np.ndarray)->tuple[np.ndarray, np.ndarray]:\n",
    "    x1 = np.dot(A, x)\n",
    "    x2 = np.dot(B, x) - offset\n",
    "    return x1, x2\n",
    "\n",
    "def choose_next_point(last_points:tuple[np.ndarray, np.ndarray], odds:float)->np.ndarray:\n",
    "    if np.random.rand() < odds:\n",
    "        return last_points[0]\n",
    "    else:\n",
    "        return last_points[1]\n",
    "    "
   ]
  },
  {
   "cell_type": "code",
   "execution_count": 72,
   "metadata": {},
   "outputs": [],
   "source": [
    "from numba import jit\n",
    "@jit\n",
    "def generate_dragon_recursive(points:list, odds:float, n:int, A:np.ndarray, B:np.ndarray, offset:np.ndarray)->np.ndarray:\n",
    "    if len(points) < n:\n",
    "        \n",
    "        # if len(points) == 0:\n",
    "        #     points = [np.random.random(2)]\n",
    "        #     x = points[-1]\n",
    "        x = choose_next_point(points[-1], odds)\n",
    "\n",
    "        return generate_dragon_recursive(points = points + [transformation_step(x, A, B, offset)],\n",
    "                                            odds = odds,\n",
    "                                            n = n,\n",
    "                                            A = A,\n",
    "                                            B = B,\n",
    "                                            offset = offset)\n",
    "    else:\n",
    "        return points"
   ]
  },
  {
   "cell_type": "code",
   "execution_count": 73,
   "metadata": {},
   "outputs": [],
   "source": [
    "n = 100"
   ]
  },
  {
   "cell_type": "code",
   "execution_count": null,
   "metadata": {},
   "outputs": [],
   "source": [
    "def generate_dragon_loop(n:int, odds:float)->np.ndarray:    \n",
    "    # random start\n",
    "    x = np.random.random(2)\n",
    "    points = [x]\n",
    "    for _ in range(n):\n",
    "        points.append(transformation_step(x, A, B, offset))\n",
    "        x = choose_next_point((points[-1]),\n",
    "                              odds=odds)\n",
    "    return points"
   ]
  },
  {
   "cell_type": "code",
   "execution_count": 62,
   "metadata": {},
   "outputs": [
    {
     "name": "stdout",
     "output_type": "stream",
     "text": [
      "3.61 ms ± 115 µs per loop (mean ± std. dev. of 7 runs, 100 loops each)\n"
     ]
    }
   ],
   "source": [
    "%%timeit\n",
    "generate_dragon_loop(n = n, odds = odds)"
   ]
  },
  {
   "cell_type": "code",
   "execution_count": null,
   "metadata": {},
   "outputs": [],
   "source": [
    "from numba import jit\n",
    "@jit\n",
    "def transformation_step_jit(x:np.ndarray, A:np.ndarray, B:np.ndarray, offset:np.ndarray)->tuple[np.ndarray, np.ndarray]:\n",
    "    x1 = np.dot(A, x)\n",
    "    x2 = np.dot(B, x) - offset\n",
    "    return x1, x2"
   ]
  },
  {
   "cell_type": "code",
   "execution_count": null,
   "metadata": {},
   "outputs": [],
   "source": [
    "%%timeit\n",
    "transformation_step_jit(x, A, B, offset)"
   ]
  },
  {
   "cell_type": "code",
   "execution_count": null,
   "metadata": {},
   "outputs": [],
   "source": [
    "%%timeit\n",
    "transformation_step(x, A, B, offset)"
   ]
  }
 ],
 "metadata": {
  "kernelspec": {
   "display_name": "Python 3",
   "language": "python",
   "name": "python3"
  },
  "language_info": {
   "codemirror_mode": {
    "name": "ipython",
    "version": 3
   },
   "file_extension": ".py",
   "mimetype": "text/x-python",
   "name": "python",
   "nbconvert_exporter": "python",
   "pygments_lexer": "ipython3",
   "version": "3.9.13"
  }
 },
 "nbformat": 4,
 "nbformat_minor": 2
}
