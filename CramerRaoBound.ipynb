{
 "cells": [
  {
   "cell_type": "code",
   "execution_count": 2,
   "metadata": {},
   "outputs": [],
   "source": [
    "import ipywidgets as w\n",
    "import numpy as np\n",
    "import matplotlib.pyplot as plt\n",
    "from ipywidgets import interact, interactive, fixed, interact_manual"
   ]
  },
  {
   "cell_type": "code",
   "execution_count": 24,
   "metadata": {},
   "outputs": [],
   "source": [
    "def sigma(L,gamma,N,x):\n",
    "    return L/(gamma*np.sqrt(N)) * (1 + np.square((2*x)/L))\n",
    "\n",
    "def CRB(L,gamma,N,x, sig = None, depth:int = 0, ter:int = 1):\n",
    "    if depth == ter:\n",
    "        return sig\n",
    "    elif depth == 0:\n",
    "        return CRB(L,gamma,N,x, sig = sigma(L,gamma,N,x), depth = depth + 1, ter = ter)\n",
    "    else:\n",
    "        return CRB(L,gamma,N,x, sig = sigma(3*sig,gamma,N,x), depth = depth + 1, ter = ter)"
   ]
  },
  {
   "cell_type": "code",
   "execution_count": 18,
   "metadata": {},
   "outputs": [
    {
     "data": {
      "application/vnd.jupyter.widget-view+json": {
       "model_id": "78758afec47745c79db7eb704994be53",
       "version_major": 2,
       "version_minor": 0
      },
      "text/plain": [
       "RadioButtons(description='Select axis:', options=('Scan Diam', 'Phot Lim', 'offset'), value='Scan Diam')"
      ]
     },
     "metadata": {},
     "output_type": "display_data"
    }
   ],
   "source": [
    "term = w.RadioButtons(\n",
    "    options=['Scan Diam', 'Phot Lim', 'offset'],\n",
    "    description='Select axis:',\n",
    "    disabled=False\n",
    ")\n",
    "display(term)"
   ]
  },
  {
   "cell_type": "code",
   "execution_count": 26,
   "metadata": {},
   "outputs": [],
   "source": [
    "if term.value == 'Scan Diam':\n",
    "    L = w.IntRangeSlider(\n",
    "    value=[1,100],\n",
    "    min=1,\n",
    "    max=500,\n",
    "    step=10,\n",
    "    description='Scan diameter [nm]:',\n",
    "    disabled=False,\n",
    "    continuous_update=False,\n",
    "    orientation='horizontal',\n",
    "    readout=True,\n",
    "    readout_format='d',\n",
    ")\n",
    "else:\n",
    "    L = w.IntSlider(\n",
    "        value=100,\n",
    "        min=0,\n",
    "        max=500,\n",
    "        step=10,\n",
    "        description='Scan diameter [nm]:',\n",
    "        disabled=False,\n",
    "        continuous_update=False,\n",
    "        orientation='horizontal',\n",
    "        readout=True,\n",
    "        readout_format='d'\n",
    "    )\n",
    "\n",
    "\n",
    "gamma = w.IntSlider(\n",
    "    value=4,\n",
    "    min=0,\n",
    "    max=12,\n",
    "    step=1,\n",
    "    description='Geo Factor [a.u.]:',\n",
    "    disabled=False,\n",
    "    continuous_update=False,\n",
    "    orientation='horizontal',\n",
    "    readout=True,\n",
    "    readout_format='d'\n",
    ")\n",
    "if term.value == 'Phot Lim':\n",
    "    N = w.IntRangeSlider(\n",
    "    value=[1,50],\n",
    "    min=1,\n",
    "    max=500,\n",
    "    step=10,\n",
    "    description='Detected photons [a.u.]:',\n",
    "    disabled=False,\n",
    "    continuous_update=False,\n",
    "    orientation='horizontal',\n",
    "    readout=True,\n",
    "    readout_format='d',\n",
    ")\n",
    "    \n",
    "else:\n",
    "    N = w.IntSlider(\n",
    "        value=50,\n",
    "        min=10,\n",
    "        max=500,\n",
    "        step=10,\n",
    "        description='Detected photons [a.u.]:',\n",
    "        disabled=False,\n",
    "        continuous_update=False,\n",
    "        orientation='horizontal',\n",
    "        readout=True,\n",
    "        readout_format='d'\n",
    "    )\n",
    "\n",
    "if term.value == 'offset':\n",
    "    x = w.FloatRangeSlider(\n",
    "    value=[0, 35],\n",
    "    min=0,\n",
    "    max=100,\n",
    "    step=0.5,\n",
    "    description='Center offset [nm]:',\n",
    "    disabled=False,\n",
    "    continuous_update=False,\n",
    "    orientation='horizontal',\n",
    "    readout=True,\n",
    "    readout_format='.1f',\n",
    ")\n",
    "    \n",
    "else:\n",
    "    x = w.IntSlider(\n",
    "        value=10,\n",
    "        min=0,\n",
    "        max=100,\n",
    "        step=1,\n",
    "        description='Center offset [nm]:',\n",
    "        disabled=False,\n",
    "        continuous_update=False,\n",
    "        orientation='horizontal',\n",
    "        readout=True,\n",
    "        readout_format='d'\n",
    "    )\n",
    "\n",
    "\n",
    "ter = w.IntRangeSlider(\n",
    "    value=[1,10],\n",
    "    min=1,\n",
    "    max=10,\n",
    "    step=1,\n",
    "    description='# iterations:',\n",
    "    disabled=False,\n",
    "    continuous_update=False,\n",
    "    orientation='horizontal',\n",
    "    readout=True,\n",
    "    readout_format='d',\n",
    ")"
   ]
  },
  {
   "cell_type": "code",
   "execution_count": null,
   "metadata": {},
   "outputs": [],
   "source": [
    "L"
   ]
  },
  {
   "cell_type": "code",
   "execution_count": 11,
   "metadata": {},
   "outputs": [
    {
     "data": {
      "text/plain": [
       "[<matplotlib.lines.Line2D at 0x1c3c6102f40>]"
      ]
     },
     "execution_count": 11,
     "metadata": {},
     "output_type": "execute_result"
    },
    {
     "data": {
      "image/png": "[encoded data removed]",
      "text/plain": [
       "<Figure size 432x288 with 1 Axes>"
      ]
     },
     "metadata": {
      "needs_background": "light"
     },
     "output_type": "display_data"
    }
   ],
   "source": [
    "n = np.linspace(N.value[0], N.value[1],1000)\n",
    "plt.plot(n, CRB(L.value,gamma.value,n,x.value, sig = None, ter = ter.value[1]))"
   ]
  },
  {
   "cell_type": "code",
   "execution_count": 8,
   "metadata": {},
   "outputs": [
    {
     "data": {
      "text/plain": [
       "[<matplotlib.lines.Line2D at 0x1c3c3fc8040>]"
      ]
     },
     "execution_count": 8,
     "metadata": {},
     "output_type": "execute_result"
    },
    {
     "data": {
      "image/png": "[encoded data removed]",
      "text/plain": [
       "<Figure size 432x288 with 1 Axes>"
      ]
     },
     "metadata": {
      "needs_background": "light"
     },
     "output_type": "display_data"
    }
   ],
   "source": [
    "l = np.linspace(L.value[0], L.value[1],1000)\n",
    "plt.plot(l, CRB(l,gamma.value,N.value,x.value, sig = None, ter = ter.value[1]))"
   ]
  },
  {
   "cell_type": "code",
   "execution_count": null,
   "metadata": {},
   "outputs": [],
   "source": [
    "L"
   ]
  },
  {
   "cell_type": "code",
   "execution_count": 27,
   "metadata": {},
   "outputs": [
    {
     "data": {
      "application/vnd.jupyter.widget-view+json": {
       "model_id": "7527fec9f7fe4b2ab6da37e3acb5c3ef",
       "version_major": 2,
       "version_minor": 0
      },
      "text/plain": [
       "interactive(children=(IntRangeSlider(value=(1, 100), continuous_update=False, description='Scan diameter [nm]:…"
      ]
     },
     "metadata": {},
     "output_type": "display_data"
    }
   ],
   "source": [
    "def plot_CRB(L,gamma,N,x,ter,term):\n",
    "    fig, ax = plt.subplots(1,1,figsize = (8,4), dpi = 100)\n",
    "    #ax = fig.add_subplot(1, 1, 1)\n",
    "    if term == 'Scan Diam':\n",
    "        l = np.linspace(L[0], L[1],1000)\n",
    "        for i in range(ter[0], ter[1]):\n",
    "            ax.plot(l, CRB(l*1e-9,gamma,N,x*1e-9, sig = None, ter = i), label = f'{i} iterations')\n",
    "    elif term == 'Phot Lim':\n",
    "        n = np.linspace(N[0], N[1],1000)\n",
    "        for i in range(ter[0], ter[1]):\n",
    "            ax.plot(n, CRB(L*1e-9,gamma,n,x*1e-9, sig = None, ter = i), label = f'{i} iterations')\n",
    "    elif term == 'offset':\n",
    "        X = np.linspace(x[0], x[1],1000)\n",
    "        for i in range(ter[0], ter[1]):\n",
    "            ax.plot(X, CRB(L*1e-9,gamma,N,X*1e-9, sig = None, ter = i), label = f'{i} iterations')\n",
    "    plt.show()\n",
    "    \n",
    "inter = interactive(plot_CRB, L=L,gamma=gamma,N=N,x=x,ter=ter,term=term.value)\n",
    "inter"
   ]
  },
  {
   "cell_type": "code",
   "execution_count": null,
   "metadata": {},
   "outputs": [],
   "source": [
    "def test():\n",
    "    fig, ax = plt.subplots(1,1,figsize = (8,4), dpi = 100)\n",
    "    n = np.linspace(N.value[0], N.value[1],1000)\n",
    "    ax.plot(n, CRB(L.value,gamma.value,n,x.value, sig = None, ter = ter.value))\n",
    "    plt.show()\n",
    "interactive(test)"
   ]
  },
  {
   "cell_type": "code",
   "execution_count": null,
   "metadata": {},
   "outputs": [],
   "source": [
    "fig.axes"
   ]
  },
  {
   "cell_type": "code",
   "execution_count": null,
   "metadata": {},
   "outputs": [],
   "source": [
    "term.value"
   ]
  },
  {
   "cell_type": "code",
   "execution_count": null,
   "metadata": {},
   "outputs": [],
   "source": [
    "CRB(L,gamma,N,x, sig = None, depth = 0, ter = 2)"
   ]
  },
  {
   "cell_type": "code",
   "execution_count": null,
   "metadata": {},
   "outputs": [],
   "source": []
  }
 ],
 "metadata": {
  "kernelspec": {
   "display_name": "Python 3",
   "language": "python",
   "name": "python3"
  },
  "language_info": {
   "codemirror_mode": {
    "name": "ipython",
    "version": 3
   },
   "file_extension": ".py",
   "mimetype": "text/x-python",
   "name": "python",
   "nbconvert_exporter": "python",
   "pygments_lexer": "ipython3",
   "version": "3.9.9"
  },
  "orig_nbformat": 4
 },
 "nbformat": 4,
 "nbformat_minor": 2
}
