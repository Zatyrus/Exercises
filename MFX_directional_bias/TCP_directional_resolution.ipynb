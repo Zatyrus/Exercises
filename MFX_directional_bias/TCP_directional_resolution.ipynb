{
 "cells": [
  {
   "cell_type": "markdown",
   "metadata": {},
   "source": [
    "## TCP directional resolution"
   ]
  },
  {
   "cell_type": "code",
   "execution_count": 22,
   "metadata": {},
   "outputs": [
    {
     "name": "stdout",
     "output_type": "stream",
     "text": [
      "Number of permutations for 3 vertices: 6\n",
      "Number of permutations for 6 vertices: 720\n",
      "Number of permutations for 8 vertices: 40320\n",
      "Angular resolution for 3 vertices: 60.00 degrees\n",
      "Angular resolution for 6 vertices: 0.50 degrees\n",
      "Angular resolution for 8 vertices: 0.01 degrees\n"
     ]
    }
   ],
   "source": [
    "## Permutations\n",
    "TCP_vertices:list[int] = [3,6,8]\n",
    "\n",
    "# Let's talk about how each of the photon bins can actually contribute to the directional reolution of the TCP\n",
    "# -> This is a trivial combinatorial problem, given that we have n bins and r = n valid combinations\n",
    "# -> The number of permutations is given by n! / (n-r)!\n",
    "\n",
    "def factorial(n:int) -> int:\n",
    "    if n == 0:\n",
    "        return 1\n",
    "    else:\n",
    "        return n * factorial(n-1)\n",
    "    \n",
    "def permutations(n:int, r:int) -> int:\n",
    "    return factorial(n) // factorial(n-r)\n",
    "\n",
    "## Let's calculate the number of permutations for the TCP vertices\n",
    "for TCP_vertex in TCP_vertices:\n",
    "    print(f\"Number of permutations for {TCP_vertex} vertices: {permutations(TCP_vertex, TCP_vertex)}\")\n",
    "    \n",
    "# Given that a circle can be quatized in 360 degrees, we can calculate the angular resolution of each TCP vertex\n",
    "# -> The angular resolution is given by 360 / n\n",
    "\n",
    "def angular_resolution(n:int) -> float:\n",
    "    return 360 / n\n",
    "\n",
    "## Let's calculate the angular resolution for the TCP vertices\n",
    "for TCP_vertex in TCP_vertices:\n",
    "    print(f\"Angular resolution for {TCP_vertex} vertices: {angular_resolution(permutations(TCP_vertex, TCP_vertex)):.2f} degrees\")\n",
    "    "
   ]
  }
 ],
 "metadata": {
  "kernelspec": {
   "display_name": "Python 3",
   "language": "python",
   "name": "python3"
  },
  "language_info": {
   "codemirror_mode": {
    "name": "ipython",
    "version": 3
   },
   "file_extension": ".py",
   "mimetype": "text/x-python",
   "name": "python",
   "nbconvert_exporter": "python",
   "pygments_lexer": "ipython3",
   "version": "3.9.9"
  }
 },
 "nbformat": 4,
 "nbformat_minor": 2
}
