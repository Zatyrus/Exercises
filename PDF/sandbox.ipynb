{
 "cells": [
  {
   "cell_type": "code",
   "execution_count": 1,
   "metadata": {},
   "outputs": [],
   "source": [
    "from tools import pdfTools, pdfInterface, pyDialogue"
   ]
  },
  {
   "cell_type": "code",
   "execution_count": null,
   "metadata": {},
   "outputs": [],
   "source": [
    "test:pdfTools = pdfTools.fromDIR(verbose=True)"
   ]
  },
  {
   "cell_type": "code",
   "execution_count": 7,
   "metadata": {},
   "outputs": [
    {
     "name": "stdout",
     "output_type": "stream",
     "text": [
      "Choose a file or files.\n"
     ]
    }
   ],
   "source": [
    "test:pdfTools = pdfTools.fromFILES(verbose=True)"
   ]
  },
  {
   "cell_type": "code",
   "execution_count": 8,
   "metadata": {},
   "outputs": [
    {
     "name": "stdout",
     "output_type": "stream",
     "text": [
      "0: doc00952820250207192435.pdf\n",
      "1: Kostenausgleich.pdf\n",
      "2: nvidia_gtcs25_custom_1738502997285001c36H.pdf\n",
      "3: Umsaetze_DE58120965970000516023_07-02-2025_17-13.pdf\n"
     ]
    }
   ],
   "source": [
    "test.showPDFArrangement()"
   ]
  },
  {
   "cell_type": "code",
   "execution_count": 9,
   "metadata": {},
   "outputs": [
    {
     "name": "stdout",
     "output_type": "stream",
     "text": [
      "Current Arrangement:\n",
      "0: doc00952820250207192435.pdf\n",
      "1: Kostenausgleich.pdf\n",
      "2: nvidia_gtcs25_custom_1738502997285001c36H.pdf\n",
      "3: Umsaetze_DE58120965970000516023_07-02-2025_17-13.pdf\n",
      "New Arrangement:\n",
      "{0: 'C:/Users/belav/Documents/NVIDIA_GTC/doc00952820250207192435.pdf',\n",
      " 1: 'C:/Users/belav/Documents/NVIDIA_GTC/Kostenausgleich.pdf',\n",
      " 2: 'C:/Users/belav/Documents/NVIDIA_GTC/nvidia_gtcs25_custom_1738502997285001c36H.pdf',\n",
      " 3: 'C:/Users/belav/Documents/NVIDIA_GTC/Umsaetze_DE58120965970000516023_07-02-2025_17-13.pdf'}\n",
      "Arrangement set\n"
     ]
    },
    {
     "data": {
      "text/plain": [
       "True"
      ]
     },
     "execution_count": 9,
     "metadata": {},
     "output_type": "execute_result"
    }
   ],
   "source": [
    "test.rearrange([0,2,3,1])"
   ]
  },
  {
   "cell_type": "code",
   "execution_count": 6,
   "metadata": {},
   "outputs": [
    {
     "name": "stdout",
     "output_type": "stream",
     "text": [
      "0: NVIDIA_GTC\\Umsaetze_DE58120965970000516023_07-02-2025_17-13.pdf\n",
      "1: NVIDIA_GTC\\nvidia_gtcs25_custom_1738502997285001c36H.pdf\n",
      "2: NVIDIA_GTC\\doc00949320250206183413.pdf\n",
      "First and last swapped\n",
      "{0: 'NVIDIA_GTC\\\\doc00949320250206183413.pdf',\n",
      " 1: 'NVIDIA_GTC\\\\nvidia_gtcs25_custom_1738502997285001c36H.pdf',\n",
      " 2: 'NVIDIA_GTC\\\\Umsaetze_DE58120965970000516023_07-02-2025_17-13.pdf'}\n"
     ]
    },
    {
     "data": {
      "text/plain": [
       "True"
      ]
     },
     "execution_count": 6,
     "metadata": {},
     "output_type": "execute_result"
    }
   ],
   "source": [
    "test.showPDFArrangement()\n",
    "test.swap_first_last()"
   ]
  },
  {
   "cell_type": "code",
   "execution_count": 5,
   "metadata": {},
   "outputs": [
    {
     "data": {
      "text/plain": [
       "{0: 'C:/Users/belav/Documents/NVIDIA_GTC\\\\Umsaetze_DE58120965970000516023_07-02-2025_17-13.pdf',\n",
       " 1: 'C:/Users/belav/Documents/NVIDIA_GTC\\\\nvidia_gtcs25_custom_1738502997285001c36H.pdf',\n",
       " 2: 'C:/Users/belav/Documents/NVIDIA_GTC\\\\doc00949320250206183413.pdf'}"
      ]
     },
     "execution_count": 5,
     "metadata": {},
     "output_type": "execute_result"
    }
   ],
   "source": [
    "test.arrangement"
   ]
  },
  {
   "cell_type": "code",
   "execution_count": 10,
   "metadata": {},
   "outputs": [
    {
     "data": {
      "text/plain": [
       "True"
      ]
     },
     "execution_count": 10,
     "metadata": {},
     "output_type": "execute_result"
    }
   ],
   "source": [
    "test.quickMerge()"
   ]
  },
  {
   "cell_type": "markdown",
   "metadata": {},
   "source": [
    "## Readout some shizz"
   ]
  },
  {
   "cell_type": "code",
   "execution_count": 21,
   "metadata": {},
   "outputs": [
    {
     "name": "stdout",
     "output_type": "stream",
     "text": [
      "Choose a file or files.\n"
     ]
    }
   ],
   "source": [
    "r1:pdfTools = pdfTools.fromFILES()"
   ]
  },
  {
   "cell_type": "code",
   "execution_count": 22,
   "metadata": {},
   "outputs": [
    {
     "data": {
      "text/plain": [
       "{'C:/Users/work/Downloads/Print_2_SI.pdf': <tools.pdfInterface at 0x137510a6ca0>,\n",
       " 'C:/Users/work/Downloads/Print_1_SI.pdf': <tools.pdfInterface at 0x137510801f0>}"
      ]
     },
     "execution_count": 22,
     "metadata": {},
     "output_type": "execute_result"
    }
   ],
   "source": [
    "r1.files"
   ]
  },
  {
   "cell_type": "code",
   "execution_count": 23,
   "metadata": {},
   "outputs": [
    {
     "data": {
      "text/plain": [
       "RectangleObject([0, 0, 2383.92, 3370.44])"
      ]
     },
     "execution_count": 23,
     "metadata": {},
     "output_type": "execute_result"
    }
   ],
   "source": [
    "r1.files['C:/Users/work/Downloads/Print_2_SI.pdf'].reader.pages[0].mediabox"
   ]
  }
 ],
 "metadata": {
  "kernelspec": {
   "display_name": "Python 3",
   "language": "python",
   "name": "python3"
  },
  "language_info": {
   "codemirror_mode": {
    "name": "ipython",
    "version": 3
   },
   "file_extension": ".py",
   "mimetype": "text/x-python",
   "name": "python",
   "nbconvert_exporter": "python",
   "pygments_lexer": "ipython3",
   "version": "3.9.9"
  }
 },
 "nbformat": 4,
 "nbformat_minor": 2
}
