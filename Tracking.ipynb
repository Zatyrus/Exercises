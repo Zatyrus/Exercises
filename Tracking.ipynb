{
 "cells": [
  {
   "cell_type": "code",
   "execution_count": 1,
   "metadata": {},
   "outputs": [],
   "source": [
    "import numpy as np\n",
    "import matplotlib.pyplot as plt"
   ]
  },
  {
   "cell_type": "code",
   "execution_count": 2,
   "metadata": {},
   "outputs": [],
   "source": [
    "from tensorflow.keras.layers import Conv2D, MaxPooling2D, Dropout, Input, Flatten, Dense\n",
    "from tensorflow.keras import Model, regularizers"
   ]
  },
  {
   "cell_type": "code",
   "execution_count": 3,
   "metadata": {},
   "outputs": [],
   "source": [
    "\n",
    "\n",
    "def track_model(input_layer, start_neurons, stop_neurons, l1:float = 0, l2:float = 0):\n",
    "    \n",
    "    conv1 = Conv2D(np.floor(start_neurons * 1), (7, 7), activation=\"relu\", padding=\"same\")(input_layer)\n",
    "    pool1 = MaxPooling2D((2, 2))(conv1)\n",
    "    \n",
    "    conv2 = Conv2D(np.floor(start_neurons * 1), (5, 5), activation=\"relu\", padding=\"same\")(pool1)\n",
    "    pool2 = MaxPooling2D((2, 2))(conv2)\n",
    "\n",
    "    conv3 = Conv2D(np.floor(start_neurons * 1), (3, 3), activation=\"relu\", padding=\"same\")(pool2)\n",
    "    pool3 = MaxPooling2D((2, 2))(conv3)\n",
    "    \n",
    "\n",
    "    flat = Conv2D(32, (1,1))(pool3)\n",
    "    flat = Flatten()(flat)\n",
    "    \n",
    "    dense1 = Dense(start_neurons, activation = 'relu')(flat)\n",
    "    drop = Dropout(0.1)(dense1)\n",
    "\n",
    "    dense2 = Dense(start_neurons, activation = 'relu')(drop)\n",
    "    drop2 = Dropout(0.1)(dense2)\n",
    "    \n",
    "    output_layer = Dense(stop_neurons, activation = 'linear')(drop2)\n",
    "\n",
    "    return output_layer\n",
    "\n",
    "\n",
    "def model_setup(img_size_target, start_neurons:int = 32, stop_neurons:int = 1, l1:float = 0, l2:float = 0):\n",
    "    inputs = Input((img_size_target, img_size_target, 1))\n",
    "    return Model(inputs = inputs, outputs = track_model(input_layer=inputs, start_neurons=start_neurons, stop_neurons=stop_neurons, l1=l1, l2=l2), name = \"Track_Model\")"
   ]
  },
  {
   "cell_type": "code",
   "execution_count": 4,
   "metadata": {},
   "outputs": [],
   "source": [
    "import numpy as np\n",
    "import pandas as pd\n",
    "from tqdm.notebook import tqdm, trange\n",
    "import matplotlib.pyplot as plt\n",
    "from sklearn.model_selection import train_test_split\n",
    "from sklearn.preprocessing import MinMaxScaler\n",
    "\n",
    "from tensorflow.keras.optimizers import Adam\n",
    "from tensorflow.keras.losses import MeanSquaredError\n",
    "from tensorflow.keras.callbacks import TensorBoard, ModelCheckpoint\n",
    "from tensorflow.keras.models import load_model\n",
    "\n",
    "import tensorboard\n",
    "from os.path import isfile, join\n",
    "from random import shuffle\n",
    "\n",
    "from skimage import io"
   ]
  },
  {
   "cell_type": "code",
   "execution_count": 5,
   "metadata": {},
   "outputs": [],
   "source": [
    "Data = r'P:\\\\Data\\\\Jacopo\\\\deeptrack_data\\\\filtered_images\\\\image_track_1.tiff'\n",
    "labels = r'P:\\\\Data\\\\Jacopo\\\\deeptrack_data\\\\tracks\\\\track_1.h5'\n",
    "\n",
    "Data = io.imread(Data)"
   ]
  },
  {
   "cell_type": "code",
   "execution_count": 6,
   "metadata": {},
   "outputs": [],
   "source": [
    "with pd.HDFStore(labels, \"r\") as hdf:\n",
    "    labels = np.array([np.array([x, y]) for x, y in zip(hdf[\"Frame_0\"][\"x\"], hdf[\"Frame_0\"][\"y\"])])\n",
    "X_train, X_test, y_train, y_test = train_test_split(Data, labels, test_size=0.2)"
   ]
  },
  {
   "cell_type": "code",
   "execution_count": 7,
   "metadata": {},
   "outputs": [],
   "source": [
    "X_train = X_train/255\n",
    "X_test = X_test/255"
   ]
  },
  {
   "cell_type": "code",
   "execution_count": 8,
   "metadata": {},
   "outputs": [],
   "source": [
    "# Hyperparameters\n",
    "BATCH_SIZE = 16\n",
    "BUFFER_SIZE = 1000\n",
    "EPOCHS = 10\n",
    "\n",
    "L1 = 1e-6\n",
    "L2 = 1e-5\n",
    "LR = 0.0001\n",
    "decay_rate = 3*LR/EPOCHS"
   ]
  },
  {
   "cell_type": "code",
   "execution_count": 9,
   "metadata": {},
   "outputs": [],
   "source": [
    "model = model_setup(255,16,2,1e-5,1e-5)"
   ]
  },
  {
   "cell_type": "code",
   "execution_count": 10,
   "metadata": {},
   "outputs": [
    {
     "name": "stdout",
     "output_type": "stream",
     "text": [
      "Model: \"Track_Model\"\n",
      "_________________________________________________________________\n",
      " Layer (type)                Output Shape              Param #   \n",
      "=================================================================\n",
      " input_1 (InputLayer)        [(None, 255, 255, 1)]     0         \n",
      "                                                                 \n",
      " conv2d (Conv2D)             (None, 255, 255, 16)      800       \n",
      "                                                                 \n",
      " max_pooling2d (MaxPooling2D  (None, 127, 127, 16)     0         \n",
      " )                                                               \n",
      "                                                                 \n",
      " conv2d_1 (Conv2D)           (None, 127, 127, 16)      6416      \n",
      "                                                                 \n",
      " max_pooling2d_1 (MaxPooling  (None, 63, 63, 16)       0         \n",
      " 2D)                                                             \n",
      "                                                                 \n",
      " conv2d_2 (Conv2D)           (None, 63, 63, 16)        2320      \n",
      "                                                                 \n",
      " max_pooling2d_2 (MaxPooling  (None, 31, 31, 16)       0         \n",
      " 2D)                                                             \n",
      "                                                                 \n",
      " conv2d_3 (Conv2D)           (None, 31, 31, 32)        544       \n",
      "                                                                 \n",
      " flatten (Flatten)           (None, 30752)             0         \n",
      "                                                                 \n",
      " dense (Dense)               (None, 16)                492048    \n",
      "                                                                 \n",
      " dropout (Dropout)           (None, 16)                0         \n",
      "                                                                 \n",
      " dense_1 (Dense)             (None, 16)                272       \n",
      "                                                                 \n",
      " dropout_1 (Dropout)         (None, 16)                0         \n",
      "                                                                 \n",
      " dense_2 (Dense)             (None, 2)                 34        \n",
      "                                                                 \n",
      "=================================================================\n",
      "Total params: 502,434\n",
      "Trainable params: 502,434\n",
      "Non-trainable params: 0\n",
      "_________________________________________________________________\n"
     ]
    }
   ],
   "source": [
    "model.summary()"
   ]
  },
  {
   "cell_type": "code",
   "execution_count": 11,
   "metadata": {},
   "outputs": [],
   "source": [
    "# Other Params\n",
    "opt = Adam(learning_rate=LR, decay = decay_rate, clipnorm = 1)#, clipnorm = 1\n",
    "\n",
    "loss = MeanSquaredError()"
   ]
  },
  {
   "cell_type": "code",
   "execution_count": 12,
   "metadata": {},
   "outputs": [],
   "source": [
    "model.compile(optimizer=opt, loss=loss, metrics=['accuracy'])"
   ]
  },
  {
   "cell_type": "code",
   "execution_count": 13,
   "metadata": {},
   "outputs": [
    {
     "data": {
      "text/plain": [
       "(3940, 255, 255)"
      ]
     },
     "execution_count": 13,
     "metadata": {},
     "output_type": "execute_result"
    }
   ],
   "source": [
    "X_train.shape"
   ]
  },
  {
   "cell_type": "code",
   "execution_count": 14,
   "metadata": {},
   "outputs": [
    {
     "name": "stdout",
     "output_type": "stream",
     "text": [
      "Epoch 1/10\n",
      "3152/3152 [==============================] - 45s 13ms/step - loss: 6754.0029 - accuracy: 0.5574 - val_loss: 5268.4468 - val_accuracy: 0.5952\n",
      "Epoch 2/10\n",
      "3152/3152 [==============================] - 44s 14ms/step - loss: 5873.1772 - accuracy: 0.5622 - val_loss: 5117.2803 - val_accuracy: 0.5952\n",
      "Epoch 3/10\n",
      "2044/3152 [==================>...........] - ETA: 24s - loss: 5778.1602 - accuracy: 0.5597"
     ]
    }
   ],
   "source": [
    "History = model.fit(X_train, y_train, epochs=EPOCHS, validation_split=0.2, batch_size=1)"
   ]
  },
  {
   "cell_type": "code",
   "execution_count": null,
   "metadata": {},
   "outputs": [],
   "source": []
  }
 ],
 "metadata": {
  "kernelspec": {
   "display_name": "Python 3.9.9 64-bit",
   "language": "python",
   "name": "python3"
  },
  "language_info": {
   "codemirror_mode": {
    "name": "ipython",
    "version": 3
   },
   "file_extension": ".py",
   "mimetype": "text/x-python",
   "name": "python",
   "nbconvert_exporter": "python",
   "pygments_lexer": "ipython3",
   "version": "3.9.9 (tags/v3.9.9:ccb0e6a, Nov 15 2021, 18:08:50) [MSC v.1929 64 bit (AMD64)]"
  },
  "orig_nbformat": 4,
  "vscode": {
   "interpreter": {
    "hash": "3ebaee5979b8c59b0a13f365fbfcdccbd052e7b307df6fdd002a678b60423ec8"
   }
  }
 },
 "nbformat": 4,
 "nbformat_minor": 2
}
